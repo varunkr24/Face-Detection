{
  "nbformat": 4,
  "nbformat_minor": 0,
  "metadata": {
    "colab": {
      "name": "Face Detection 1.ipynb",
      "provenance": [],
      "authorship_tag": "ABX9TyM3PBjjbjPcL2CxU2EM1mVV",
      "include_colab_link": true
    },
    "kernelspec": {
      "name": "python3",
      "display_name": "Python 3"
    },
    "language_info": {
      "name": "python"
    }
  },
  "cells": [
    {
      "cell_type": "markdown",
      "metadata": {
        "id": "view-in-github",
        "colab_type": "text"
      },
      "source": [
        "<a href=\"https://colab.research.google.com/github/varunkr24/Face-Detection/blob/Python/Face_Detection_1.ipynb\" target=\"_parent\"><img src=\"https://colab.research.google.com/assets/colab-badge.svg\" alt=\"Open In Colab\"/></a>"
      ]
    },
    {
      "cell_type": "code",
      "metadata": {
        "colab": {
          "base_uri": "https://localhost:8080/"
        },
        "id": "nuGVF_iKmtpv",
        "outputId": "ca1bb013-0c92-4389-8816-44ad402e423b"
      },
      "source": [
        "from google.colab import drive\n",
        "drive.mount('/content/drive')"
      ],
      "execution_count": 1,
      "outputs": [
        {
          "output_type": "stream",
          "text": [
            "Mounted at /content/drive\n"
          ],
          "name": "stdout"
        }
      ]
    },
    {
      "cell_type": "code",
      "metadata": {
        "colab": {
          "base_uri": "https://localhost:8080/"
        },
        "id": "H1zMFgan_kKr",
        "outputId": "ade4d67f-5941-4710-aaf6-3c9f22319627"
      },
      "source": [
        "import os\n",
        "print(os.listdir('../content/drive/My Drive/AIML/Projects/CV'))"
      ],
      "execution_count": 2,
      "outputs": [
        {
          "output_type": "stream",
          "text": [
            "['trainimages.npy']\n"
          ],
          "name": "stdout"
        }
      ]
    },
    {
      "cell_type": "code",
      "metadata": {
        "id": "Fh5NwPi6DIFg"
      },
      "source": [
        "import numpy as np\n",
        "Data=np.load(\"../content/drive/My Drive/AIML/Projects/CV/trainimages.npy\",allow_pickle=True)"
      ],
      "execution_count": 6,
      "outputs": []
    },
    {
      "cell_type": "code",
      "metadata": {
        "colab": {
          "base_uri": "https://localhost:8080/"
        },
        "id": "9jSKQDpMDwym",
        "outputId": "687a11fb-2570-48e5-b188-ae682c5c732c"
      },
      "source": [
        "print(\"There are {} images in the dataset\".format(len(Data)))"
      ],
      "execution_count": 7,
      "outputs": [
        {
          "output_type": "stream",
          "text": [
            "There are 409 images in the dataset\n"
          ],
          "name": "stdout"
        }
      ]
    },
    {
      "cell_type": "code",
      "metadata": {
        "colab": {
          "base_uri": "https://localhost:8080/",
          "height": 231
        },
        "id": "_WjvvjYyFwPW",
        "outputId": "9e92d5ff-e872-4567-9bca-709946041c79"
      },
      "source": [
        "for moviedata in Data:\n",
        "  X = []\n",
        "  img = moviedata[0]\n",
        "  X.append(moviedata[0])\n",
        "  metadata = moviedata[1]\n",
        "  i = 0\n",
        "  fc = []\n",
        "  for data in metadata:\n",
        "    count = 0\n",
        "    height = data['imageHeight']\n",
        "    width = data['imageWidth']\n",
        "    points = data['points']\n",
        "    if 'Face' in data['label']:\n",
        "      y[count, 0] = round(width*points[0]['x'])\n",
        "      y[count, 1] = round(height*points[0]['y'])\n",
        "      y[count, 2] = round(width*points[1]['x'])\n",
        "      y[count, 3] = round(height*points[1]['y'])\n",
        "      i += 1\n",
        "      totalfaces += 1\n",
        "  count += 1 "
      ],
      "execution_count": 19,
      "outputs": [
        {
          "output_type": "error",
          "ename": "NameError",
          "evalue": "ignored",
          "traceback": [
            "\u001b[0;31m---------------------------------------------------------------------------\u001b[0m",
            "\u001b[0;31mNameError\u001b[0m                                 Traceback (most recent call last)",
            "\u001b[0;32m<ipython-input-19-301ad5d07a03>\u001b[0m in \u001b[0;36m<module>\u001b[0;34m()\u001b[0m\n\u001b[1;32m     12\u001b[0m     \u001b[0mpoints\u001b[0m \u001b[0;34m=\u001b[0m \u001b[0mdata\u001b[0m\u001b[0;34m[\u001b[0m\u001b[0;34m'points'\u001b[0m\u001b[0;34m]\u001b[0m\u001b[0;34m\u001b[0m\u001b[0;34m\u001b[0m\u001b[0m\n\u001b[1;32m     13\u001b[0m     \u001b[0;32mif\u001b[0m \u001b[0;34m'Face'\u001b[0m \u001b[0;32min\u001b[0m \u001b[0mdata\u001b[0m\u001b[0;34m[\u001b[0m\u001b[0;34m'label'\u001b[0m\u001b[0;34m]\u001b[0m\u001b[0;34m:\u001b[0m\u001b[0;34m\u001b[0m\u001b[0;34m\u001b[0m\u001b[0m\n\u001b[0;32m---> 14\u001b[0;31m       \u001b[0my\u001b[0m\u001b[0;34m[\u001b[0m\u001b[0mcount\u001b[0m\u001b[0;34m,\u001b[0m \u001b[0;36m0\u001b[0m\u001b[0;34m]\u001b[0m \u001b[0;34m=\u001b[0m \u001b[0mround\u001b[0m\u001b[0;34m(\u001b[0m\u001b[0mwidth\u001b[0m\u001b[0;34m*\u001b[0m\u001b[0mpoints\u001b[0m\u001b[0;34m[\u001b[0m\u001b[0;36m0\u001b[0m\u001b[0;34m]\u001b[0m\u001b[0;34m[\u001b[0m\u001b[0;34m'x'\u001b[0m\u001b[0;34m]\u001b[0m\u001b[0;34m)\u001b[0m\u001b[0;34m\u001b[0m\u001b[0;34m\u001b[0m\u001b[0m\n\u001b[0m\u001b[1;32m     15\u001b[0m       \u001b[0my\u001b[0m\u001b[0;34m[\u001b[0m\u001b[0mcount\u001b[0m\u001b[0;34m,\u001b[0m \u001b[0;36m1\u001b[0m\u001b[0;34m]\u001b[0m \u001b[0;34m=\u001b[0m \u001b[0mround\u001b[0m\u001b[0;34m(\u001b[0m\u001b[0mheight\u001b[0m\u001b[0;34m*\u001b[0m\u001b[0mpoints\u001b[0m\u001b[0;34m[\u001b[0m\u001b[0;36m0\u001b[0m\u001b[0;34m]\u001b[0m\u001b[0;34m[\u001b[0m\u001b[0;34m'y'\u001b[0m\u001b[0;34m]\u001b[0m\u001b[0;34m)\u001b[0m\u001b[0;34m\u001b[0m\u001b[0;34m\u001b[0m\u001b[0m\n\u001b[1;32m     16\u001b[0m       \u001b[0my\u001b[0m\u001b[0;34m[\u001b[0m\u001b[0mcount\u001b[0m\u001b[0;34m,\u001b[0m \u001b[0;36m2\u001b[0m\u001b[0;34m]\u001b[0m \u001b[0;34m=\u001b[0m \u001b[0mround\u001b[0m\u001b[0;34m(\u001b[0m\u001b[0mwidth\u001b[0m\u001b[0;34m*\u001b[0m\u001b[0mpoints\u001b[0m\u001b[0;34m[\u001b[0m\u001b[0;36m1\u001b[0m\u001b[0;34m]\u001b[0m\u001b[0;34m[\u001b[0m\u001b[0;34m'x'\u001b[0m\u001b[0;34m]\u001b[0m\u001b[0;34m)\u001b[0m\u001b[0;34m\u001b[0m\u001b[0;34m\u001b[0m\u001b[0m\n",
            "\u001b[0;31mNameError\u001b[0m: name 'y' is not defined"
          ]
        }
      ]
    },
    {
      "cell_type": "code",
      "metadata": {
        "id": "7cpLzz61E78K",
        "outputId": "33d4aba4-a7c9-4943-e2ea-fb4858a9bf1d",
        "colab": {
          "base_uri": "https://localhost:8080/"
        }
      },
      "source": [
        "Data[0][1]"
      ],
      "execution_count": 20,
      "outputs": [
        {
          "output_type": "execute_result",
          "data": {
            "text/plain": [
              "[{'imageHeight': 333,\n",
              "  'imageWidth': 650,\n",
              "  'label': ['Face'],\n",
              "  'notes': '',\n",
              "  'points': [{'x': 0.08615384615384615, 'y': 0.3063063063063063},\n",
              "   {'x': 0.1723076923076923, 'y': 0.45345345345345345}]},\n",
              " {'imageHeight': 333,\n",
              "  'imageWidth': 650,\n",
              "  'label': ['Face'],\n",
              "  'notes': '',\n",
              "  'points': [{'x': 0.583076923076923, 'y': 0.2912912912912913},\n",
              "   {'x': 0.6584615384615384, 'y': 0.46846846846846846}]}]"
            ]
          },
          "metadata": {
            "tags": []
          },
          "execution_count": 20
        }
      ]
    },
    {
      "cell_type": "code",
      "metadata": {
        "colab": {
          "base_uri": "https://localhost:8080/"
        },
        "id": "ERK5fFPyEoPq",
        "outputId": "262be239-0636-4230-da27-149ddd2b7716"
      },
      "source": [
        "Data[0]"
      ],
      "execution_count": 14,
      "outputs": [
        {
          "output_type": "execute_result",
          "data": {
            "text/plain": [
              "array([array([[[42, 37, 34],\n",
              "        [56, 51, 48],\n",
              "        [71, 66, 63],\n",
              "        ...,\n",
              "        [23, 33, 34],\n",
              "        [26, 36, 37],\n",
              "        [28, 38, 39]],\n",
              "\n",
              "       [[40, 35, 32],\n",
              "        [51, 46, 43],\n",
              "        [64, 59, 56],\n",
              "        ...,\n",
              "        [27, 36, 35],\n",
              "        [24, 33, 32],\n",
              "        [26, 35, 34]],\n",
              "\n",
              "       [[43, 38, 35],\n",
              "        [51, 46, 43],\n",
              "        [61, 56, 53],\n",
              "        ...,\n",
              "        [28, 30, 27],\n",
              "        [33, 35, 32],\n",
              "        [35, 37, 34]],\n",
              "\n",
              "       ...,\n",
              "\n",
              "       [[56, 47, 40],\n",
              "        [57, 48, 41],\n",
              "        [61, 52, 45],\n",
              "        ...,\n",
              "        [67, 48, 42],\n",
              "        [55, 35, 28],\n",
              "        [60, 40, 33]],\n",
              "\n",
              "       [[53, 44, 37],\n",
              "        [54, 45, 38],\n",
              "        [57, 48, 41],\n",
              "        ...,\n",
              "        [59, 40, 34],\n",
              "        [60, 40, 33],\n",
              "        [54, 34, 27]],\n",
              "\n",
              "       [[53, 44, 37],\n",
              "        [54, 45, 38],\n",
              "        [57, 48, 41],\n",
              "        ...,\n",
              "        [59, 40, 34],\n",
              "        [70, 50, 43],\n",
              "        [64, 44, 37]]], dtype=uint8),\n",
              "       list([{'label': ['Face'], 'notes': '', 'points': [{'x': 0.08615384615384615, 'y': 0.3063063063063063}, {'x': 0.1723076923076923, 'y': 0.45345345345345345}], 'imageWidth': 650, 'imageHeight': 333}, {'label': ['Face'], 'notes': '', 'points': [{'x': 0.583076923076923, 'y': 0.2912912912912913}, {'x': 0.6584615384615384, 'y': 0.46846846846846846}], 'imageWidth': 650, 'imageHeight': 333}])],\n",
              "      dtype=object)"
            ]
          },
          "metadata": {
            "tags": []
          },
          "execution_count": 14
        }
      ]
    }
  ]
}